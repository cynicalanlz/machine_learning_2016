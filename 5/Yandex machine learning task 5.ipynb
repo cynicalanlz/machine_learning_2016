{
 "cells": [
  {
   "cell_type": "code",
   "execution_count": 338,
   "metadata": {
    "collapsed": false
   },
   "outputs": [
    {
     "data": {
      "text/plain": [
       "((300, 2), (300,), (200, 2), (200,))"
      ]
     },
     "execution_count": 338,
     "metadata": {},
     "output_type": "execute_result"
    }
   ],
   "source": [
    "import operator\n",
    "import itertools\n",
    "\n",
    "import pandas\n",
    "import numpy as np\n",
    "from sklearn.linear_model import Perceptron\n",
    "from sklearn.preprocessing import StandardScaler\n",
    "\n",
    "from sklearn import metrics\n",
    "\n",
    "def fit_Perceptron(data, target, test_data, rnd):            \n",
    "    clf = Perceptron(random_state=rnd)\n",
    "    clf.fit(data, target)    \n",
    "    predictions = clf.predict(test_data)\n",
    "    return predictions\n",
    "\n",
    "train = pandas.read_csv('_3e251a91db9262835c9e5855ae9e6573_perceptron-train.csv', header=-1)\n",
    "test = pandas.read_csv('_3e251a91db9262835c9e5855ae9e6573_perceptron-test.csv', header=-1)\n",
    "\n",
    "train_target = train[0]\n",
    "train_data = train[list(xrange(3))[1:]]\n",
    "train_data.shape, train_target.shape\n",
    "test_target = test[0]\n",
    "test_data = test[list(xrange(3))[1:]]\n",
    "train_data.shape, train_target.shape, test_scaled_data.shape, test_scaled_target.shape"
   ]
  },
  {
   "cell_type": "code",
   "execution_count": 339,
   "metadata": {
    "collapsed": false
   },
   "outputs": [
    {
     "data": {
      "text/plain": [
       "True"
      ]
     },
     "execution_count": 339,
     "metadata": {},
     "output_type": "execute_result"
    }
   ],
   "source": [
    "predictions = fit_Perceptron(train_data, train_target, test_data, 241)\n",
    "\n",
    "list(test_target)[-1] == list(predictions)[-1]"
   ]
  },
  {
   "cell_type": "code",
   "execution_count": 340,
   "metadata": {
    "collapsed": false
   },
   "outputs": [
    {
     "data": {
      "text/plain": [
       "False"
      ]
     },
     "execution_count": 340,
     "metadata": {},
     "output_type": "execute_result"
    }
   ],
   "source": [
    "operator.is_(list(test_target)[-1] , list(predictions)[-1])"
   ]
  },
  {
   "cell_type": "code",
   "execution_count": 341,
   "metadata": {
    "collapsed": false
   },
   "outputs": [
    {
     "data": {
      "text/plain": [
       "(0.36, 0.80500000000000005)"
      ]
     },
     "execution_count": 341,
     "metadata": {},
     "output_type": "execute_result"
    }
   ],
   "source": [
    "correct = map(operator.eq, list(predictions), list(test_target))\n",
    "ans1 = operator.countOf(correct, True) / float(test_target.shape[0])\n",
    "ans1, metrics.mean_absolute_error(test_target, predictions)"
   ]
  },
  {
   "cell_type": "code",
   "execution_count": 362,
   "metadata": {
    "collapsed": false
   },
   "outputs": [
    {
     "data": {
      "text/plain": [
       "((300, 2), (200, 2))"
      ]
     },
     "execution_count": 362,
     "metadata": {},
     "output_type": "execute_result"
    }
   ],
   "source": [
    "scaler = StandardScaler()\n",
    "\n",
    "train_scaled = pandas.DataFrame(scaler.fit_transform(np.array(train_data)))\n",
    "test_scaled = pandas.DataFrame(scaler.fit_transform(np.array(test_data)))\n",
    "train_scaled.shape, test_scaled.shape"
   ]
  },
  {
   "cell_type": "code",
   "execution_count": 365,
   "metadata": {
    "collapsed": false
   },
   "outputs": [
    {
     "data": {
      "text/plain": [
       "(0.925, 0.80500000000000005)"
      ]
     },
     "execution_count": 365,
     "metadata": {},
     "output_type": "execute_result"
    }
   ],
   "source": [
    "predictions2 = fit_Perceptron(train_scaled, train_target, test_scaled_data, 241)\n",
    "correct2 = map(operator.eq, list(predictions2), list(test_target))\n",
    "ans2 = operator.countOf(correct2, True) / float(test_target.shape[0])\n",
    "ans2, metrics.mean_absolute_error(test_target, predictions)"
   ]
  },
  {
   "cell_type": "code",
   "execution_count": 366,
   "metadata": {
    "collapsed": true
   },
   "outputs": [],
   "source": [
    "with open(\"ans.txt\", 'w') as o:\n",
    "    o.write(str(ans2-ans1))"
   ]
  },
  {
   "cell_type": "code",
   "execution_count": null,
   "metadata": {
    "collapsed": true
   },
   "outputs": [],
   "source": [
    "train_scaled = pandas.DataFrame(scaler.fit_transform(train))\n",
    "test_scaled = pandas.DataFrame(scaler.transform(test))\n",
    "train_scaled.shape, test_scaled.shape\n",
    "\n",
    "train_scaled_target = train_scaled[0]\n",
    "train_scaled_data = train_scaled[list(xrange(3))[1:]]\n",
    "test_scaled_target = test_scaled[0]\n",
    "test_scaled_data = test_scaled[list(xrange(3))[1:]]\n",
    "train_scaled_data.shape, train_scaled_target.shape, test_scaled_data.shape, test_scaled_target.shape"
   ]
  },
  {
   "cell_type": "code",
   "execution_count": null,
   "metadata": {
    "collapsed": false
   },
   "outputs": [],
   "source": [
    "correct = map(operator.eq, predictions2, test_scaled_target)\n",
    "operator.countOf(correct, True)"
   ]
  },
  {
   "cell_type": "code",
   "execution_count": null,
   "metadata": {
    "collapsed": true
   },
   "outputs": [],
   "source": []
  },
  {
   "cell_type": "code",
   "execution_count": null,
   "metadata": {
    "collapsed": true
   },
   "outputs": [],
   "source": []
  }
 ],
 "metadata": {
  "kernelspec": {
   "display_name": "Python 2",
   "language": "python",
   "name": "python2"
  },
  "language_info": {
   "codemirror_mode": {
    "name": "ipython",
    "version": 2
   },
   "file_extension": ".py",
   "mimetype": "text/x-python",
   "name": "python",
   "nbconvert_exporter": "python",
   "pygments_lexer": "ipython2",
   "version": "2.7.6"
  }
 },
 "nbformat": 4,
 "nbformat_minor": 0
}
