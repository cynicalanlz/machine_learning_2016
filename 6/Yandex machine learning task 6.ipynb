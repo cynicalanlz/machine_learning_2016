{
 "cells": [
  {
   "cell_type": "code",
   "execution_count": 184,
   "metadata": {
    "collapsed": false
   },
   "outputs": [
    {
     "data": {
      "text/plain": [
       "(10, 3)"
      ]
     },
     "execution_count": 184,
     "metadata": {},
     "output_type": "execute_result"
    }
   ],
   "source": [
    "import operator\n",
    "import itertools\n",
    "\n",
    "import pandas\n",
    "import numpy as np\n",
    "\n",
    "from sklearn.svm import SVC\n",
    "from sklearn.preprocessing import StandardScaler\n",
    "from sklearn import metrics\n",
    "\n",
    "%matplotlib inline\n",
    "import matplotlib.pyplot as plt\n",
    "\n",
    "\n",
    "def fit_Perceptron(data, target, test_data, rnd):            \n",
    "    clf = Perceptron(random_state=rnd)\n",
    "    clf.fit(data, target)    \n",
    "    predictions = clf.predict(test_data)\n",
    "    return predictions\n",
    "\n",
    "data = pandas.read_csv('_f6284c13db83a3074c2b987f714f24f5_svm-data.csv', header=-1)\n",
    "data.shape"
   ]
  },
  {
   "cell_type": "code",
   "execution_count": 185,
   "metadata": {
    "collapsed": false
   },
   "outputs": [],
   "source": [
    "target = data[0]\n",
    "features = data[list(xrange(3))[1:]]"
   ]
  },
  {
   "cell_type": "code",
   "execution_count": 186,
   "metadata": {
    "collapsed": false
   },
   "outputs": [
    {
     "data": {
      "text/plain": [
       "((10,), (10, 2))"
      ]
     },
     "execution_count": 186,
     "metadata": {},
     "output_type": "execute_result"
    }
   ],
   "source": [
    "target.shape, features.shape"
   ]
  },
  {
   "cell_type": "code",
   "execution_count": 187,
   "metadata": {
    "collapsed": false
   },
   "outputs": [
    {
     "data": {
      "text/plain": [
       "<matplotlib.collections.PathCollection at 0x7f50f376ffd0>"
      ]
     },
     "execution_count": 187,
     "metadata": {},
     "output_type": "execute_result"
    },
    {
     "data": {
      "image/png": "[encoded data removed]",
      "text/plain": [
       "<matplotlib.figure.Figure at 0x7f50f37eba90>"
      ]
     },
     "metadata": {},
     "output_type": "display_data"
    }
   ],
   "source": [
    "clf = SVC(kernel='linear', C=100000, random_state=241)\n",
    "clf.fit(features, target)\n",
    "\n",
    "plt.figure(0)\n",
    "plt.clf()\n",
    "plt.scatter(features[1], features[2], c=target, zorder=10, cmap=plt.cm.Paired)\n",
    "\n",
    "\n",
    "plt.axis('tight')\n",
    "x_min = features[1].min()\n",
    "x_max = features[1].max()\n",
    "y_min = features[2].min()\n",
    "y_max = features[2].max()\n",
    "\n",
    "\n",
    "XX, YY = np.mgrid[x_min:x_max:200j, y_min:y_max:200j]\n",
    "Z = clf.decision_function(np.c_[XX.ravel(), YY.ravel()])\n",
    "\n",
    "descisions = clf.decision_function(features)\n",
    "\n",
    "def find_nearest(array,value):\n",
    "    idx = (np.abs(array-value)).argmin()\n",
    "    return idx\n",
    "\n",
    "boundary_low = find_nearest(descisions, 0.001)\n",
    "boundary_high = find_nearest(descisions, -0.001)\n",
    "\n",
    "arr_bond = []\n",
    "\n",
    "arr_bond.extend([boundary_low, boundary_high])\n",
    "\n",
    "# Put the result into a color plot\n",
    "Z = Z.reshape(XX.shape)\n",
    "plt.pcolormesh(XX, YY, Z > 0, cmap=plt.cm.Paired)\n",
    "plt.contour(XX, YY, Z, colors=['k', 'k', 'k'], linestyles=['--', '-', '--'],\n",
    "            levels=[-1, 0, 1])\n",
    "\n",
    "boundaries = features.iloc[clf.support_,:]\n",
    "\n",
    "plt.scatter(boundaries[1], boundaries[2], s=80, facecolors='none', zorder=10)"
   ]
  },
  {
   "cell_type": "code",
   "execution_count": 188,
   "metadata": {
    "collapsed": false
   },
   "outputs": [],
   "source": [
    "ans = np.sort(clf.support_)\n",
    "ans = map(operator.add, ans, np.repeat(1, len(ans)))\n",
    "ans = map(str, ans)"
   ]
  },
  {
   "cell_type": "code",
   "execution_count": 189,
   "metadata": {
    "collapsed": false
   },
   "outputs": [],
   "source": [
    "with open(\"ans.txt\", 'w') as p:\n",
    "    p.write(\",\".join(ans))"
   ]
  }
 ],
 "metadata": {
  "kernelspec": {
   "display_name": "Python 2",
   "language": "python",
   "name": "python2"
  },
  "language_info": {
   "codemirror_mode": {
    "name": "ipython",
    "version": 2
   },
   "file_extension": ".py",
   "mimetype": "text/x-python",
   "name": "python",
   "nbconvert_exporter": "python",
   "pygments_lexer": "ipython2",
   "version": "2.7.6"
  }
 },
 "nbformat": 4,
 "nbformat_minor": 0
}
